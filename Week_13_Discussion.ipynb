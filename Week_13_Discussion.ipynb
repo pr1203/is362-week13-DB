{
 "cells": [
  {
   "attachments": {},
   "cell_type": "markdown",
   "metadata": {},
   "source": [
    "### The Runner: Recommender System of Workout and Nutrition for Runners\n",
    "\n",
    "<img src=\"Capture.PNG\" alt=\"Runner Page\" width=\"400\"/>\n",
    "\n",
    "\n",
    "### Abstract:\n",
    "\n",
    "Recommender systems have been gaining popularity and appreciation over the past few years and they kept growing towards a semantic web. Internet users search for more and more facilities to get information and recommendations based on their preferences, experience and expectations. Nowadays, there are many recommending systems on the web for music, movies, diets, products, etc. Some of them use very efficient recommending techniques (ex. Amazon), while others are very simple, based on algorithms that do not always provide relevant or interesting recommendations. The solution we propose is a recommending system for running professionals and amateurs, which is able to provide information to users regarding the workout and the diet that best suits them, based on their profile information, preferences and declared purpose. The solution mixes a social dimension derived from an expanding community with expert knowledge defined within an ontology. Moreover, our model addresses adaptability in terms of personal profile, professional results and unfortunate events that might occur during workouts.\n",
    "\n",
    "\n",
    "### Scenario Design Analysis\n",
    "#### 1. Who are your target users?\n",
    "The Runner is a recommendation system are from both amateur and experienced runners who are looking for recommendations on diets and workout exercises.\n",
    "\n",
    "#### 2. What are your users' key goals?\n",
    "The user's key goals are to find recommendations on what diets they should follow while training. Also, they are looking to find what excersises they should incorporate into their workout regimne if they aren't sure of what they should be doing.\n",
    "\n",
    "#### 3. How can we help the users accomplish their goals?\n",
    "The criteria of the recommending system that they propose includes user profiles (personal information, hobbies, nutrition and sports preferences), similar users and their recommendations, the evolution in time of each user, accomplishments of workout exercises, and diet for a particular day. The system also considers the unforeseen changes possibly inflicted by injuries, illness or other impediments or changes that can affect one’s performance. Currently, the system recommends diet based on the purpose the user defined and considering experts knowledge. The structure of these ontologies (especially the one for nutrition) was designed and conceived with an expert’s help after previously searching for relevant nutritional information on dedicated websites.\n",
    "\n",
    "### Reverse Engineering\n",
    "The site itself has 3 layers: Presentation, Business Intelligence, and Data. The presentation layer is what the users see and runs on the web browser. The Business Intelligence layer is where they recommendations and modeling occurs. The data layer is where the application data is stored and connections to other data sources happen.\n",
    "\n",
    "<img src=\"Capture_2.PNG\" alt=\"Runner Page\" width=\"400\"/>\n",
    "\n",
    "### My Recommendations\n",
    "The Runner system seems like a good idea, espeically for users that have no real experience. I would recommend that there is a feature to track running routes and excercise times so that users can review what they've done. I would also recommend that the Runner app be integratable into other modern apps so that the data can be tracked and integrated further. So app examples would be Apple Health and MyFittnessPal.\n",
    "\n",
    "### Citation\n",
    "\n",
    "Donciu, Mihnea & Ionita, Madalina & Dascalu, Mihai & Trausan-Matu, Stefan. (2012). The Runner -- Recommender System of Workout and Nutrition for Runners. 230-238. 10.1109/SYNASC.2011.18.\n",
    "\n",
    "https://www.researchgate.net/publication/236650407_The_Runner_--_Recommender_System_of_Workout_and_Nutrition_for_Runners"
   ]
  },
  {
   "cell_type": "code",
   "execution_count": null,
   "metadata": {},
   "outputs": [],
   "source": []
  }
 ],
 "metadata": {
  "kernelspec": {
   "display_name": "Python 3",
   "language": "python",
   "name": "python3"
  },
  "language_info": {
   "codemirror_mode": {
    "name": "ipython",
    "version": 3
   },
   "file_extension": ".py",
   "mimetype": "text/x-python",
   "name": "python",
   "nbconvert_exporter": "python",
   "pygments_lexer": "ipython3",
   "version": "3.8.3"
  }
 },
 "nbformat": 4,
 "nbformat_minor": 4
}
